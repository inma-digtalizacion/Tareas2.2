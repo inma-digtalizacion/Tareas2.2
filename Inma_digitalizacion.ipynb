{
  "nbformat": 4,
  "nbformat_minor": 0,
  "metadata": {
    "colab": {
      "provenance": [],
      "authorship_tag": "ABX9TyPhwRu/3sr1ETqBqsTX13I4",
      "include_colab_link": true
    },
    "kernelspec": {
      "name": "python3",
      "display_name": "Python 3"
    },
    "language_info": {
      "name": "python"
    }
  },
  "cells": [
    {
      "cell_type": "markdown",
      "metadata": {
        "id": "view-in-github",
        "colab_type": "text"
      },
      "source": [
        "<a href=\"https://colab.research.google.com/github/inma-digtalizacion/Tareas2.2/blob/main/Inma_digitalizacion.ipynb\" target=\"_parent\"><img src=\"https://colab.research.google.com/assets/colab-badge.svg\" alt=\"Open In Colab\"/></a>"
      ]
    },
    {
      "cell_type": "code",
      "source": [],
      "metadata": {
        "id": "bLJzUVuoDdeH"
      },
      "execution_count": null,
      "outputs": []
    },
    {
      "cell_type": "markdown",
      "source": [
        "Escribir programa que imprima la palabra HOLA"
      ],
      "metadata": {
        "id": "VIYOVTfiDuYP"
      }
    },
    {
      "cell_type": "code",
      "source": [
        "print(\"HOLA\")"
      ],
      "metadata": {
        "colab": {
          "base_uri": "https://localhost:8080/"
        },
        "id": "dZF3pLJ6D1IZ",
        "outputId": "e1cabcc5-021c-44bc-e34f-cfd97f2d1732"
      },
      "execution_count": null,
      "outputs": [
        {
          "output_type": "stream",
          "name": "stdout",
          "text": [
            "HOLA\n"
          ]
        }
      ]
    },
    {
      "cell_type": "markdown",
      "source": [
        "Escribir un programa donde la palabra Hola este guardada en una variable, e imprimir esa variable"
      ],
      "metadata": {
        "id": "RQ086sWBEEKX"
      }
    },
    {
      "cell_type": "code",
      "source": [
        "X=\"HOLA\"\n",
        "print(X)"
      ],
      "metadata": {
        "colab": {
          "base_uri": "https://localhost:8080/"
        },
        "id": "G4yD_cMAELH_",
        "outputId": "e31c428a-ca13-4f2f-a551-857930566b58"
      },
      "execution_count": null,
      "outputs": [
        {
          "output_type": "stream",
          "name": "stdout",
          "text": [
            "HOLA\n"
          ]
        }
      ]
    },
    {
      "cell_type": "markdown",
      "source": [
        "Escribir un programa que sume los números 1+2 y eleve el resultado al cuadrado\n",
        "Usando variable y cálculos directo"
      ],
      "metadata": {
        "id": "tzKTF74uEdUQ"
      }
    },
    {
      "cell_type": "code",
      "source": [
        "X=1\n",
        "Y=2\n",
        "Z=(X+Y)**2\n",
        "print(Z)"
      ],
      "metadata": {
        "colab": {
          "base_uri": "https://localhost:8080/"
        },
        "id": "3s90oo6QEvqS",
        "outputId": "f53df0a9-8e96-4bd5-d9c5-389714bb20cc"
      },
      "execution_count": null,
      "outputs": [
        {
          "output_type": "stream",
          "name": "stdout",
          "text": [
            "9\n"
          ]
        }
      ]
    },
    {
      "cell_type": "code",
      "source": [
        "(1+2)**2"
      ],
      "metadata": {
        "colab": {
          "base_uri": "https://localhost:8080/"
        },
        "id": "topRWoQBFMPA",
        "outputId": "91906244-f67a-4590-f303-1790fd856561"
      },
      "execution_count": null,
      "outputs": [
        {
          "output_type": "execute_result",
          "data": {
            "text/plain": [
              "9"
            ]
          },
          "metadata": {},
          "execution_count": 6
        }
      ]
    },
    {
      "cell_type": "markdown",
      "source": [
        "Escribir un programa que pregunte al usuario por dos números (first_number, second_number), cree una variable (sum) que represente la suma de ambos, e imprima el valor de esta variable al cubo."
      ],
      "metadata": {
        "id": "ozkXDEFcFdHX"
      }
    },
    {
      "cell_type": "code",
      "source": [
        "numero1=input(\"Elige el primer número \")\n",
        "numero2=input(\"Elige el segundo número \")\n",
        "z=int(numero1)+int(numero2)\n",
        "x=z**3\n",
        "print(x)"
      ],
      "metadata": {
        "colab": {
          "base_uri": "https://localhost:8080/"
        },
        "id": "mr4YVDYfFk9B",
        "outputId": "78b29129-b57b-40af-890c-ad007517cea1"
      },
      "execution_count": null,
      "outputs": [
        {
          "output_type": "stream",
          "name": "stdout",
          "text": [
            "Elige el primer número 4\n",
            "Elige el segundo número 10\n",
            "2744\n"
          ]
        }
      ]
    },
    {
      "cell_type": "markdown",
      "source": [
        "Escribir un programa que cree una variable que sea una frase, otra variable  que sea un número entero, y otra variable que represente la suma de las dos primeras variables. Imprimir el valor de esta última variable"
      ],
      "metadata": {
        "id": "w39lWq5LVvGz"
      }
    },
    {
      "cell_type": "code",
      "source": [
        "x=\"Juego de Tronos\"\n",
        "y=6\n",
        "z=x+\" \"+str(y)\n",
        "print(z)"
      ],
      "metadata": {
        "colab": {
          "base_uri": "https://localhost:8080/"
        },
        "id": "SOHJzJUtWCQR",
        "outputId": "81799e6b-edd4-4249-b8eb-98cfff48f7dc"
      },
      "execution_count": null,
      "outputs": [
        {
          "output_type": "stream",
          "name": "stdout",
          "text": [
            "Juego de Tronos 6\n"
          ]
        }
      ]
    }
  ]
}